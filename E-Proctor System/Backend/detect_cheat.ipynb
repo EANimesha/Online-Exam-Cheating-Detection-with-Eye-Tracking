{
  "nbformat": 4,
  "nbformat_minor": 0,
  "metadata": {
    "colab": {
      "name": "detect_cheat.ipynb",
      "provenance": [],
      "collapsed_sections": []
    },
    "kernelspec": {
      "name": "python3",
      "display_name": "Python 3"
    },
    "language_info": {
      "name": "python"
    }
  },
  "cells": [
    {
      "cell_type": "code",
      "metadata": {
        "id": "PkwCDYwWA0WG"
      },
      "source": [
        "!pip install colabcode\n",
        "!pip install fastapi"
      ],
      "execution_count": null,
      "outputs": []
    },
    {
      "cell_type": "code",
      "metadata": {
        "id": "tbxmQbRkB9K1"
      },
      "source": [
        "from colabcode import ColabCode\n",
        "from fastapi import FastAPI\n",
        "from pydantic import BaseModel\n",
        "from fastapi.middleware.cors import CORSMiddleware\n"
      ],
      "execution_count": null,
      "outputs": []
    },
    {
      "cell_type": "code",
      "metadata": {
        "id": "wOlPuCYKCGuz"
      },
      "source": [
        "cc= ColabCode(port=12000,code=False)"
      ],
      "execution_count": null,
      "outputs": []
    },
    {
      "cell_type": "code",
      "metadata": {
        "id": "V3fuPAZPCMvY"
      },
      "source": [
        "app=FastAPI()\n",
        "\n",
        "@app.get(\"/\")\n",
        "async def read_root():\n",
        "  return {\"Hello\":\"World\"}"
      ],
      "execution_count": null,
      "outputs": []
    },
    {
      "cell_type": "code",
      "metadata": {
        "colab": {
          "base_uri": "https://localhost:8080/"
        },
        "id": "52WvWjn2CfOf",
        "outputId": "98185d53-9608-4c75-b67c-dda606bc7ec8"
      },
      "source": [
        "cc.run_app(app=app)"
      ],
      "execution_count": null,
      "outputs": [
        {
          "output_type": "stream",
          "name": "stdout",
          "text": [
            ""
          ]
        },
        {
          "output_type": "stream",
          "name": "stderr",
          "text": [
            "INFO:     Started server process [63]\n",
            "INFO:     Waiting for application startup.\n",
            "INFO:     Application startup complete.\n",
            "INFO:     Uvicorn running on http://127.0.0.1:12000 (Press CTRL+C to quit)\n"
          ]
        },
        {
          "output_type": "stream",
          "name": "stdout",
          "text": [
            "Public URL: NgrokTunnel: \"https://7a72-35-194-238-172.ngrok.io\" -> \"http://localhost:12000\"\n",
            "INFO:     112.134.65.111:0 - \"GET / HTTP/1.1\" 200 OK\n",
            "INFO:     112.134.65.111:0 - \"GET /favicon.ico HTTP/1.1\" 404 Not Found\n"
          ]
        },
        {
          "output_type": "stream",
          "name": "stderr",
          "text": [
            "INFO:     Shutting down\n",
            "INFO:     Waiting for application shutdown.\n",
            "INFO:     Application shutdown complete.\n",
            "INFO:     Finished server process [63]\n"
          ]
        }
      ]
    },
    {
      "cell_type": "code",
      "metadata": {
        "id": "okkQcH9xvRo1"
      },
      "source": [
        "import numpy as np  \n",
        "import pandas as pd\n",
        "import matplotlib.pyplot as plt\n",
        "\n",
        "from sklearn.svm import OneClassSVM\n",
        "from numpy import where"
      ],
      "execution_count": null,
      "outputs": []
    },
    {
      "cell_type": "code",
      "metadata": {
        "colab": {
          "base_uri": "https://localhost:8080/"
        },
        "id": "F7kdCxG9vWXE",
        "outputId": "ef58aae4-2645-41a1-c643-8f3d70369930"
      },
      "source": [
        "from google.colab import drive\n",
        "drive.mount('/content/drive')"
      ],
      "execution_count": null,
      "outputs": [
        {
          "output_type": "stream",
          "name": "stdout",
          "text": [
            "Mounted at /content/drive\n"
          ]
        }
      ]
    },
    {
      "cell_type": "code",
      "metadata": {
        "id": "3RD9qyGpvkCw"
      },
      "source": [
        "import numpy as np  \n",
        "import pandas as pd\n",
        "import matplotlib.pyplot as plt\n",
        "\n",
        "from sklearn.svm import OneClassSVM\n",
        "from numpy import where\n",
        "\n",
        "app=FastAPI(title='The cheating Predictor')\n",
        "\n",
        "origins = [\"*\"]\n",
        "\n",
        "app.add_middleware(\n",
        "    CORSMiddleware,\n",
        "    allow_origins=origins,\n",
        "    allow_credentials=True,\n",
        "    allow_methods=['OPTION','GET', 'POST'],\n",
        "    allow_headers=[\"*\"],\n",
        ")\n",
        "\n",
        "class Data(BaseModel):\n",
        "    x_min:int\n",
        "    x_max:int\n",
        "    y_max:int\n",
        "    y_min:int\n",
        "    gazes: list\n",
        "\n",
        "\n",
        "@app.post(\"/api\",tags=[\"prediction\"])\n",
        "async def predict(data:Data):\n",
        "  df =  pd.DataFrame(data.gazes,columns=[\"X\", \"Y\"])\n",
        "  df['X']=df.X.astype(float)\n",
        "  df['Y']=df.Y.astype(float)\n",
        "  print(df.shape)\n",
        "  x_min,x_max,y_max,y_min= data.x_min, data.x_max, data.y_max, data.y_min\n",
        "  data = {'status': [], 'elapased_time': []}\n",
        "  df_new = pd.DataFrame(data)\n",
        "\n",
        "  status=-1\n",
        "  c=0\n",
        "  k=0\n",
        "\n",
        "  for index, row in df.iterrows():\n",
        "    if (row['X']>x_max or row['X']<x_min or row['Y']>y_max or row['Y']<y_min):\n",
        "      if status==0:\n",
        "        df_new=df_new.append({'status':0,'elapased_time':c},ignore_index=True)\n",
        "        c=0\n",
        "      status= 1\n",
        "      c=c+1\n",
        "    else:\n",
        "      if status==1:\n",
        "        df_new=df_new.append({'status':1,'elapased_time':c},ignore_index=True)\n",
        "        c=0\n",
        "      status= 0\n",
        "      c=c+1\n",
        "  df_new=df_new.append({'status':status,'elapased_time':c},ignore_index=True)\n",
        "  new_dtypes = {\"status\": int, \"elapased_time\": int}\n",
        "  df_new = df_new.astype(new_dtypes)\n",
        "\n",
        "  svm = OneClassSVM(kernel='rbf', gamma=0.001, nu=0.1)\n",
        "\n",
        "  svm.fit(df_new)\n",
        "  pred = svm.predict(df_new)\n",
        "\n",
        "  anom_index = where(pred==-1)\n",
        "  df_new = df_new.reset_index(drop=True) \n",
        "  values = df_new.loc[anom_index]\n",
        "  df_new['svm_p']=pred\n",
        "  # print(values.shape[0])\n",
        "  result='non-cheat'\n",
        "\n",
        "  for index, row in df_new.iterrows():\n",
        "    if(row['svm_p']==-1 and row['status']==0):\n",
        "      if k>15:\n",
        "        print(k)\n",
        "        result='cheat'\n",
        "        break\n",
        "      k=0\n",
        "    else:\n",
        "      k=k+1\n",
        "  \n",
        "  # print(x_min,x_max,y_max,y_min)\n",
        "  return {\"result\":result}"
      ],
      "execution_count": null,
      "outputs": []
    },
    {
      "cell_type": "code",
      "metadata": {
        "colab": {
          "base_uri": "https://localhost:8080/"
        },
        "id": "ecV3uQ9KE6Su",
        "outputId": "11654567-3158-4690-94e3-8d42b3550431"
      },
      "source": [
        "cc.run_app(app=app)"
      ],
      "execution_count": null,
      "outputs": [
        {
          "output_type": "stream",
          "name": "stdout",
          "text": [
            "Public URL: NgrokTunnel: \"https://898d-104-196-251-164.ngrok.io\" -> \"http://localhost:12000\"\n"
          ]
        },
        {
          "output_type": "stream",
          "name": "stderr",
          "text": [
            "INFO:     Started server process [64]\n",
            "INFO:     Waiting for application startup.\n",
            "INFO:     Application startup complete.\n",
            "INFO:     Uvicorn running on http://127.0.0.1:12000 (Press CTRL+C to quit)\n"
          ]
        },
        {
          "output_type": "stream",
          "name": "stdout",
          "text": [
            "INFO:     112.134.65.157:0 - \"OPTIONS /api HTTP/1.1\" 200 OK\n",
            "(3000, 2)\n",
            "INFO:     112.134.65.157:0 - \"POST /api HTTP/1.1\" 200 OK\n"
          ]
        },
        {
          "output_type": "stream",
          "name": "stderr",
          "text": [
            "INFO:     Shutting down\n",
            "INFO:     Waiting for application shutdown.\n",
            "INFO:     Application shutdown complete.\n",
            "INFO:     Finished server process [64]\n"
          ]
        }
      ]
    },
    {
      "cell_type": "markdown",
      "metadata": {
        "id": "vBBbCwKi8-EG"
      },
      "source": [
        "Some Tests"
      ]
    },
    {
      "cell_type": "code",
      "metadata": {
        "id": "O_NE3tYakL-F"
      },
      "source": [
        "-57,1677,923,24"
      ],
      "execution_count": null,
      "outputs": []
    },
    {
      "cell_type": "code",
      "metadata": {
        "colab": {
          "base_uri": "https://localhost:8080/"
        },
        "id": "apIv2nsgWUIS",
        "outputId": "c5671221-78bf-45dd-c73d-faf0dcae43e4"
      },
      "source": [
        "df =  pd.read_csv('/content/drive/MyDrive/Colab Notebooks/Research/Test Data/webquiz_cheat1.csv',names=[\"X\", \"Y\"])\n",
        "predict(-6, 1505, 839, 27,df)"
      ],
      "execution_count": null,
      "outputs": [
        {
          "output_type": "stream",
          "name": "stdout",
          "text": [
            "29\n",
            "cheat\n"
          ]
        }
      ]
    },
    {
      "cell_type": "code",
      "metadata": {
        "colab": {
          "base_uri": "https://localhost:8080/"
        },
        "id": "g26NQi9OoPgt",
        "outputId": "aa57433e-cc31-40f2-8c1f-6a69d7d5a437"
      },
      "source": [
        "df =  pd.read_csv('/content/drive/MyDrive/Colab Notebooks/Research/Test Data/webquiz_cheat.csv',names=[\"X\", \"Y\"])\n",
        "predict(-26 ,1332,822,23,df)"
      ],
      "execution_count": null,
      "outputs": [
        {
          "output_type": "stream",
          "name": "stdout",
          "text": [
            "25\n",
            "cheat\n"
          ]
        }
      ]
    },
    {
      "cell_type": "code",
      "metadata": {
        "colab": {
          "base_uri": "https://localhost:8080/"
        },
        "id": "l1KzRvLdnnqU",
        "outputId": "38b124c6-47c4-470f-d0f4-8e8b7bcc4a9a"
      },
      "source": [
        "df =  pd.read_csv('/content/drive/MyDrive/Colab Notebooks/Research/Test Data/webquiz_normal.csv',names=[\"X\", \"Y\"])\n",
        "predict(49, 1399, 817 ,65,df)"
      ],
      "execution_count": null,
      "outputs": [
        {
          "output_type": "stream",
          "name": "stdout",
          "text": [
            "non-cheat\n"
          ]
        }
      ]
    },
    {
      "cell_type": "code",
      "metadata": {
        "colab": {
          "base_uri": "https://localhost:8080/"
        },
        "id": "S6i8-NSqn0J4",
        "outputId": "015823e8-2d65-49ec-94cb-4d3fe7152055"
      },
      "source": [
        "df =  pd.read_csv('/content/drive/MyDrive/Colab Notebooks/Research/Test Data/webquiz_normal1.csv',names=[\"X\", \"Y\"])\n",
        "predict(49, 1399, 817 ,65 ,df)"
      ],
      "execution_count": null,
      "outputs": [
        {
          "output_type": "stream",
          "name": "stdout",
          "text": [
            "non-cheat\n"
          ]
        }
      ]
    },
    {
      "cell_type": "code",
      "metadata": {
        "colab": {
          "base_uri": "https://localhost:8080/"
        },
        "id": "aU2gPg_Aooel",
        "outputId": "683a1d43-9b3b-4d67-a81f-0e0a9ea52887"
      },
      "source": [
        "df =  pd.read_csv('/content/drive/MyDrive/Colab Notebooks/Research/Test Data/webquiz_good.csv',names=[\"X\", \"Y\"])\n",
        "predict( -26.0,1332,822, 23,df)"
      ],
      "execution_count": null,
      "outputs": [
        {
          "output_type": "stream",
          "name": "stdout",
          "text": [
            "non-cheat\n"
          ]
        }
      ]
    }
  ]
}