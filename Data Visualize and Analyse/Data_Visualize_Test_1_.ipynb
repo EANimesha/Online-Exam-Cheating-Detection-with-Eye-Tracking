{
  "nbformat": 4,
  "nbformat_minor": 5,
  "metadata": {
    "kernelspec": {
      "display_name": "Python 3",
      "language": "python",
      "name": "python3"
    },
    "language_info": {
      "codemirror_mode": {
        "name": "ipython",
        "version": 3
      },
      "file_extension": ".py",
      "mimetype": "text/x-python",
      "name": "python",
      "nbconvert_exporter": "python",
      "pygments_lexer": "ipython3",
      "version": "3.8.8"
    },
    "colab": {
      "name": "Data Visualize Test - 1 .ipynb",
      "provenance": [],
      "collapsed_sections": [],
      "include_colab_link": true
    }
  },
  "cells": [
    {
      "cell_type": "markdown",
      "metadata": {
        "id": "view-in-github",
        "colab_type": "text"
      },
      "source": [
        "<a href=\"https://colab.research.google.com/github/EANimesha/Online-Exam-Cheating-Detection/blob/master/Data%20Visualize%20and%20Analyse/Data_Visualize_Test_1_.ipynb\" target=\"_parent\"><img src=\"https://colab.research.google.com/assets/colab-badge.svg\" alt=\"Open In Colab\"/></a>"
      ]
    },
    {
      "cell_type": "code",
      "metadata": {
        "id": "43ffe0aa"
      },
      "source": [
        "import numpy as np  # useful for many scientific computing in Python\n",
        "import pandas as pd"
      ],
      "id": "43ffe0aa",
      "execution_count": 2,
      "outputs": []
    },
    {
      "cell_type": "code",
      "metadata": {
        "id": "4d16b03c"
      },
      "source": [
        "import matplotlib.pyplot as plt"
      ],
      "id": "4d16b03c",
      "execution_count": 3,
      "outputs": []
    },
    {
      "cell_type": "code",
      "metadata": {
        "colab": {
          "base_uri": "https://localhost:8080/"
        },
        "id": "nMiih7lWp5qj",
        "outputId": "3ed74007-1d1a-46f3-b89a-730ab9567310"
      },
      "source": [
        "from google.colab import drive\n",
        "drive.mount('/content/drive')"
      ],
      "id": "nMiih7lWp5qj",
      "execution_count": 1,
      "outputs": [
        {
          "output_type": "stream",
          "text": [
            "Mounted at /content/drive\n"
          ],
          "name": "stdout"
        }
      ]
    },
    {
      "cell_type": "code",
      "metadata": {
        "id": "220624ed"
      },
      "source": [
        "df =  pd.read_csv('/content/drive/MyDrive/Colab Notebooks/Research/gazeData7.csv',names=[\"X\", \"Y\"])"
      ],
      "id": "220624ed",
      "execution_count": 16,
      "outputs": []
    },
    {
      "cell_type": "code",
      "metadata": {
        "colab": {
          "base_uri": "https://localhost:8080/",
          "height": 203
        },
        "id": "0d37129b",
        "outputId": "729cef60-dfe4-448d-e7d5-596c259fd4f4"
      },
      "source": [
        "df.head()"
      ],
      "id": "0d37129b",
      "execution_count": 17,
      "outputs": [
        {
          "output_type": "execute_result",
          "data": {
            "text/html": [
              "<div>\n",
              "<style scoped>\n",
              "    .dataframe tbody tr th:only-of-type {\n",
              "        vertical-align: middle;\n",
              "    }\n",
              "\n",
              "    .dataframe tbody tr th {\n",
              "        vertical-align: top;\n",
              "    }\n",
              "\n",
              "    .dataframe thead th {\n",
              "        text-align: right;\n",
              "    }\n",
              "</style>\n",
              "<table border=\"1\" class=\"dataframe\">\n",
              "  <thead>\n",
              "    <tr style=\"text-align: right;\">\n",
              "      <th></th>\n",
              "      <th>X</th>\n",
              "      <th>Y</th>\n",
              "    </tr>\n",
              "  </thead>\n",
              "  <tbody>\n",
              "    <tr>\n",
              "      <th>0</th>\n",
              "      <td>682</td>\n",
              "      <td>45</td>\n",
              "    </tr>\n",
              "    <tr>\n",
              "      <th>1</th>\n",
              "      <td>614</td>\n",
              "      <td>51</td>\n",
              "    </tr>\n",
              "    <tr>\n",
              "      <th>2</th>\n",
              "      <td>636</td>\n",
              "      <td>51</td>\n",
              "    </tr>\n",
              "    <tr>\n",
              "      <th>3</th>\n",
              "      <td>641</td>\n",
              "      <td>74</td>\n",
              "    </tr>\n",
              "    <tr>\n",
              "      <th>4</th>\n",
              "      <td>952</td>\n",
              "      <td>66</td>\n",
              "    </tr>\n",
              "  </tbody>\n",
              "</table>\n",
              "</div>"
            ],
            "text/plain": [
              "     X   Y\n",
              "0  682  45\n",
              "1  614  51\n",
              "2  636  51\n",
              "3  641  74\n",
              "4  952  66"
            ]
          },
          "metadata": {
            "tags": []
          },
          "execution_count": 17
        }
      ]
    },
    {
      "cell_type": "code",
      "metadata": {
        "colab": {
          "base_uri": "https://localhost:8080/",
          "height": 297
        },
        "id": "16ccdf6a",
        "outputId": "35a7cf63-e4d5-4135-c25a-08dd939925c3"
      },
      "source": [
        "df.plot(kind='scatter', x='X', y='Y')\n",
        "plt.axvline(x=64,color='red')\n",
        "plt.axvline(x=1247,color='red')\n",
        "plt.axhline(y=804,color='green')\n",
        "plt.axhline(y=23,color='green')"
      ],
      "id": "16ccdf6a",
      "execution_count": null,
      "outputs": [
        {
          "output_type": "execute_result",
          "data": {
            "text/plain": [
              "<matplotlib.lines.Line2D at 0x7f2f72018690>"
            ]
          },
          "metadata": {
            "tags": []
          },
          "execution_count": 14
        },
        {
          "output_type": "display_data",
          "data": {
            "image/png": "[encoded data removed]",
            "text/plain": [
              "<Figure size 432x288 with 1 Axes>"
            ]
          },
          "metadata": {
            "tags": [],
            "needs_background": "light"
          }
        }
      ]
    },
    {
      "cell_type": "markdown",
      "metadata": {
        "id": "pJomtnH4k4aH"
      },
      "source": [
        "In the above graph I have plotted the lines of boundaries in red and green color. red lines - > x min and x max of screen, green line -> y min and y max of screen"
      ],
      "id": "pJomtnH4k4aH"
    },
    {
      "cell_type": "code",
      "metadata": {
        "colab": {
          "base_uri": "https://localhost:8080/",
          "height": 265
        },
        "id": "d5702872",
        "outputId": "4e2420d4-cc12-4e86-98f4-97a750cde22b"
      },
      "source": [
        "x = np.array(df['X'])\n",
        "y =np.array(df['Y'])\n",
        "\n",
        "heatmap, xedges, yedges = np.histogram2d(x, y, bins=50)\n",
        "extent = [xedges[0], xedges[-1], yedges[0], yedges[-1]]\n",
        "\n",
        "plt.clf()\n",
        "plt.imshow(heatmap.T, extent=extent, origin='lower')\n",
        "plt.show()"
      ],
      "id": "d5702872",
      "execution_count": null,
      "outputs": [
        {
          "output_type": "display_data",
          "data": {
            "image/png": "[encoded data removed]",
            "text/plain": [
              "<Figure size 432x288 with 1 Axes>"
            ]
          },
          "metadata": {
            "tags": [],
            "needs_background": "light"
          }
        }
      ]
    },
    {
      "cell_type": "code",
      "metadata": {
        "id": "9vphMHfxxGyy"
      },
      "source": [
        "from scipy import stats, integrate\n",
        "import seaborn as sns\n",
        "import matplotlib.image as mpimg "
      ],
      "id": "9vphMHfxxGyy",
      "execution_count": 24,
      "outputs": []
    },
    {
      "cell_type": "code",
      "metadata": {
        "colab": {
          "base_uri": "https://localhost:8080/",
          "height": 338
        },
        "id": "4bRKGvumZMgL",
        "outputId": "7ea284fa-fffe-4014-9cfe-a2983a6ea4e7"
      },
      "source": [
        "# x= df['X'].to_numpy()\n",
        "# y= df['Y'].to_numpy()\n",
        "\n",
        "ax = sns.kdeplot(x, y, cmap=\"Blues\", shade=True, shade_lowest=False)\n",
        "\n",
        "ax.set_frame_on(False)\n",
        "plt.xlim(0, 704)\n",
        "plt.ylim(576, 0)\n",
        "plt.axis('off')\n",
        "plt.show()"
      ],
      "id": "4bRKGvumZMgL",
      "execution_count": 33,
      "outputs": [
        {
          "output_type": "stream",
          "text": [
            "/usr/local/lib/python3.7/dist-packages/seaborn/_decorators.py:43: FutureWarning: Pass the following variable as a keyword arg: y. From version 0.12, the only valid positional argument will be `data`, and passing other arguments without an explicit keyword will result in an error or misinterpretation.\n",
            "  FutureWarning\n",
            "/usr/local/lib/python3.7/dist-packages/seaborn/distributions.py:1676: UserWarning: `shade_lowest` is now deprecated in favor of `thresh`. Setting `thresh=0.05`, but please update your code.\n",
            "  warnings.warn(msg, UserWarning)\n"
          ],
          "name": "stderr"
        },
        {
          "output_type": "display_data",
          "data": {
            "image/png": "[encoded data removed]",
            "text/plain": [
              "<Figure size 432x288 with 1 Axes>"
            ]
          },
          "metadata": {
            "tags": [],
            "needs_background": "light"
          }
        }
      ]
    },
    {
      "cell_type": "markdown",
      "metadata": {
        "id": "h9XzcHkvcoW9"
      },
      "source": [
        "refered https://zbigatron.com/generating-heatmaps-from-coordinates/ and https://stackoverflow.com/questions/50091591/plotting-seaborn-heatmap-on-top-of-a-background-picture"
      ],
      "id": "h9XzcHkvcoW9"
    },
    {
      "cell_type": "code",
      "metadata": {
        "id": "y2dZ236xeVsP"
      },
      "source": [
        "import matplotlib\n",
        "import matplotlib.pyplot as plt\n",
        "import pandas as pd\n",
        "import numpy as np\n",
        "import matplotlib.image as mpimg \n",
        "\n",
        "file = \"/content/drive/MyDrive/Colab Notebooks/Research/gazeData7.csv\"\n",
        "df = pd.read_csv(file)\n",
        "import seaborn as sns\n",
        "map_img = mpimg.imread('/content/drive/MyDrive/Colab Notebooks/Research/imgd.PNG') \n"
      ],
      "id": "y2dZ236xeVsP",
      "execution_count": 34,
      "outputs": []
    },
    {
      "cell_type": "code",
      "metadata": {
        "colab": {
          "base_uri": "https://localhost:8080/",
          "height": 359
        },
        "id": "ZNVbkRs9ebFu",
        "outputId": "a9c42e66-9c0e-4f4a-8771-783e5f8cd67c"
      },
      "source": [
        "\n",
        "hmax = sns.kdeplot(x, y, cmap=\"Blues\", shade=True, bw=.15)\n",
        "hmax.collections[0].set_alpha(0)\n",
        "\n",
        "plt.imshow(map_img, zorder=0, extent=[30.0, 1014.0, 24.0, 800.0])\n",
        "plt.show()\n"
      ],
      "id": "ZNVbkRs9ebFu",
      "execution_count": 67,
      "outputs": [
        {
          "output_type": "stream",
          "text": [
            "/usr/local/lib/python3.7/dist-packages/seaborn/_decorators.py:43: FutureWarning: Pass the following variable as a keyword arg: y. From version 0.12, the only valid positional argument will be `data`, and passing other arguments without an explicit keyword will result in an error or misinterpretation.\n",
            "  FutureWarning\n",
            "/usr/local/lib/python3.7/dist-packages/seaborn/distributions.py:1657: FutureWarning: The `bw` parameter is deprecated in favor of `bw_method` and `bw_adjust`. Using 0.15 for `bw_method`, but please see the docs for the new parameters and update your code.\n",
            "  warnings.warn(msg, FutureWarning)\n"
          ],
          "name": "stderr"
        },
        {
          "output_type": "display_data",
          "data": {
            "image/png": "[encoded data removed]",
            "text/plain": [
              "<Figure size 432x288 with 1 Axes>"
            ]
          },
          "metadata": {
            "tags": [],
            "needs_background": "light"
          }
        }
      ]
    },
    {
      "cell_type": "code",
      "metadata": {
        "id": "cCjMwcZmfFgw"
      },
      "source": [
        ""
      ],
      "id": "cCjMwcZmfFgw",
      "execution_count": null,
      "outputs": []
    }
  ]
}